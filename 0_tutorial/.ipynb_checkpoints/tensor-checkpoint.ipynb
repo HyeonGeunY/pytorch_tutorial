{
 "cells": [
  {
   "cell_type": "code",
   "execution_count": 1,
   "id": "422a2fe3",
   "metadata": {},
   "outputs": [],
   "source": [
    "import torch\n",
    "import numpy as np"
   ]
  },
  {
   "cell_type": "code",
   "execution_count": 2,
   "id": "e414bd46",
   "metadata": {},
   "outputs": [
    {
     "name": "stdout",
     "output_type": "stream",
     "text": [
      "tensor([[0., 0., 0., 0.],\n",
      "        [0., 0., 0., 0.],\n",
      "        [0., 0., 0., 0.],\n",
      "        [0., 0., 0., 0.],\n",
      "        [0., 0., 0., 0.]])\n"
     ]
    }
   ],
   "source": [
    "x = torch.empty(5,4)\n",
    "print(x)"
   ]
  },
  {
   "cell_type": "code",
   "execution_count": 3,
   "id": "75b1f3a0",
   "metadata": {},
   "outputs": [
    {
     "data": {
      "text/plain": [
       "tensor([[1., 1., 1.],\n",
       "        [1., 1., 1.],\n",
       "        [1., 1., 1.]])"
      ]
     },
     "execution_count": 3,
     "metadata": {},
     "output_type": "execute_result"
    }
   ],
   "source": [
    "torch.ones(3,3)"
   ]
  },
  {
   "cell_type": "code",
   "execution_count": 4,
   "id": "5e0cb9ef",
   "metadata": {},
   "outputs": [
    {
     "data": {
      "text/plain": [
       "tensor([0., 0.])"
      ]
     },
     "execution_count": 4,
     "metadata": {},
     "output_type": "execute_result"
    }
   ],
   "source": [
    "torch.zeros(2)"
   ]
  },
  {
   "cell_type": "code",
   "execution_count": 5,
   "id": "55da9bfd",
   "metadata": {},
   "outputs": [
    {
     "data": {
      "text/plain": [
       "tensor([[0.5110, 0.8280, 0.7338, 0.4146, 0.0918, 0.0850],\n",
       "        [0.3840, 0.7397, 0.9812, 0.4518, 0.7217, 0.8479],\n",
       "        [0.6164, 0.4801, 0.3187, 0.5496, 0.8147, 0.5653],\n",
       "        [0.5436, 0.3896, 0.8032, 0.2422, 0.9375, 0.6326],\n",
       "        [0.7729, 0.8773, 0.0856, 0.1514, 0.8814, 0.8583]])"
      ]
     },
     "execution_count": 5,
     "metadata": {},
     "output_type": "execute_result"
    }
   ],
   "source": [
    "randtorch.rand(5,6)"
   ]
  },
  {
   "cell_type": "code",
   "execution_count": 6,
   "id": "cef6d53d",
   "metadata": {},
   "outputs": [],
   "source": [
    "l = [13, 4]\n",
    "r = np.array([4, 56, 7])"
   ]
  },
  {
   "cell_type": "code",
   "execution_count": 7,
   "id": "35de989e",
   "metadata": {},
   "outputs": [
    {
     "data": {
      "text/plain": [
       "tensor([13,  4])"
      ]
     },
     "execution_count": 7,
     "metadata": {},
     "output_type": "execute_result"
    }
   ],
   "source": [
    "torch.tensor(l)"
   ]
  },
  {
   "cell_type": "code",
   "execution_count": 8,
   "id": "da625134",
   "metadata": {},
   "outputs": [
    {
     "data": {
      "text/plain": [
       "tensor([ 4, 56,  7], dtype=torch.int32)"
      ]
     },
     "execution_count": 8,
     "metadata": {},
     "output_type": "execute_result"
    }
   ],
   "source": [
    "torch.tensor(r)"
   ]
  },
  {
   "cell_type": "code",
   "execution_count": 9,
   "id": "7e5b5437",
   "metadata": {},
   "outputs": [
    {
     "data": {
      "text/plain": [
       "torch.Size([5, 4])"
      ]
     },
     "execution_count": 9,
     "metadata": {},
     "output_type": "execute_result"
    }
   ],
   "source": [
    "x.size()"
   ]
  },
  {
   "cell_type": "code",
   "execution_count": 10,
   "id": "614851d1",
   "metadata": {},
   "outputs": [
    {
     "data": {
      "text/plain": [
       "torch.Tensor"
      ]
     },
     "execution_count": 10,
     "metadata": {},
     "output_type": "execute_result"
    }
   ],
   "source": [
    "type(x)"
   ]
  },
  {
   "cell_type": "code",
   "execution_count": 11,
   "id": "c09e4318",
   "metadata": {},
   "outputs": [],
   "source": [
    "x = torch.rand(2,2)\n",
    "y = torch.rand(2,2)"
   ]
  },
  {
   "cell_type": "code",
   "execution_count": 12,
   "id": "0343e652",
   "metadata": {},
   "outputs": [
    {
     "data": {
      "text/plain": [
       "tensor([[1.0612, 1.0565],\n",
       "        [0.7531, 1.2356]])"
      ]
     },
     "execution_count": 12,
     "metadata": {},
     "output_type": "execute_result"
    }
   ],
   "source": [
    "x + y"
   ]
  },
  {
   "cell_type": "code",
   "execution_count": 13,
   "id": "11b82f1e",
   "metadata": {},
   "outputs": [
    {
     "data": {
      "text/plain": [
       "tensor([[1.0612, 1.0565],\n",
       "        [0.7531, 1.2356]])"
      ]
     },
     "execution_count": 13,
     "metadata": {},
     "output_type": "execute_result"
    }
   ],
   "source": [
    "torch.add(x,y)"
   ]
  },
  {
   "cell_type": "code",
   "execution_count": 14,
   "id": "44dfa9e9",
   "metadata": {},
   "outputs": [
    {
     "data": {
      "text/plain": [
       "tensor([[1.0612, 1.0565],\n",
       "        [0.7531, 1.2356]])"
      ]
     },
     "execution_count": 14,
     "metadata": {},
     "output_type": "execute_result"
    }
   ],
   "source": [
    "y.add(x)"
   ]
  },
  {
   "cell_type": "code",
   "execution_count": 15,
   "id": "711a9ca1",
   "metadata": {},
   "outputs": [
    {
     "data": {
      "text/plain": [
       "tensor([[1.0612, 1.0565],\n",
       "        [0.7531, 1.2356]])"
      ]
     },
     "execution_count": 15,
     "metadata": {},
     "output_type": "execute_result"
    }
   ],
   "source": [
    "y.add_(x) # inplace 방식 결과 값으로 y를 대체"
   ]
  },
  {
   "cell_type": "code",
   "execution_count": 17,
   "id": "1f6895bc",
   "metadata": {},
   "outputs": [
    {
     "data": {
      "text/plain": [
       "tensor(1.2356)"
      ]
     },
     "execution_count": 17,
     "metadata": {},
     "output_type": "execute_result"
    }
   ],
   "source": [
    "y[1,1]"
   ]
  },
  {
   "cell_type": "code",
   "execution_count": 19,
   "id": "5c48a2e8",
   "metadata": {},
   "outputs": [
    {
     "name": "stdout",
     "output_type": "stream",
     "text": [
      "tensor([[0.0399, 0.0573, 0.2190, 0.9478, 0.4636, 0.4965, 0.3813, 0.2271],\n",
      "        [0.2704, 0.0645, 0.5712, 0.9714, 0.5284, 0.5316, 0.4693, 0.1104],\n",
      "        [0.1935, 0.1298, 0.4731, 0.1536, 0.5351, 0.4432, 0.5286, 0.6176],\n",
      "        [0.3916, 0.8156, 0.2705, 0.4307, 0.2878, 0.6324, 0.1835, 0.0348],\n",
      "        [0.8926, 0.1658, 0.7450, 0.0210, 0.1337, 0.1164, 0.9245, 0.7533],\n",
      "        [0.1084, 0.2095, 0.5487, 0.4636, 0.0056, 0.1030, 0.5119, 0.2258],\n",
      "        [0.6359, 0.6086, 0.5190, 0.0871, 0.1871, 0.3335, 0.4019, 0.9883],\n",
      "        [0.0527, 0.2084, 0.9704, 0.9999, 0.8764, 0.9279, 0.3436, 0.2931]])\n"
     ]
    }
   ],
   "source": [
    "x = torch.rand(8,8)\n",
    "print(x)"
   ]
  },
  {
   "cell_type": "code",
   "execution_count": 24,
   "id": "843142a9",
   "metadata": {},
   "outputs": [
    {
     "name": "stdout",
     "output_type": "stream",
     "text": [
      "<class 'numpy.ndarray'>\n"
     ]
    }
   ],
   "source": [
    "y = x.numpy()\n",
    "print(type(y))"
   ]
  },
  {
   "cell_type": "code",
   "execution_count": 25,
   "id": "79bc6d45",
   "metadata": {},
   "outputs": [],
   "source": [
    "x = torch.ones(1)"
   ]
  },
  {
   "cell_type": "code",
   "execution_count": 26,
   "id": "36bd464b",
   "metadata": {},
   "outputs": [
    {
     "data": {
      "text/plain": [
       "1.0"
      ]
     },
     "execution_count": 26,
     "metadata": {},
     "output_type": "execute_result"
    }
   ],
   "source": [
    "x.item() # x안의 값을 꺼냄 loss 값을 직접 뽑아내고 싶을 때 사용함."
   ]
  },
  {
   "cell_type": "code",
   "execution_count": 27,
   "id": "fc37b997",
   "metadata": {},
   "outputs": [],
   "source": [
    "x = torch.Tensor(64)"
   ]
  },
  {
   "cell_type": "code",
   "execution_count": 29,
   "id": "b887d9ca",
   "metadata": {},
   "outputs": [
    {
     "name": "stdout",
     "output_type": "stream",
     "text": [
      "torch.Size([64])\n",
      "torch.Size([4, 16])\n",
      "torch.Size([4, 16])\n"
     ]
    }
   ],
   "source": [
    "print(x.view(64).shape)\n",
    "print(x.view(4, 16).shape)  # view : 텐서의 디맨션을 변환, cnn -> fcn에서 자주 사용 \n",
    "print(x.view(-1, 16).shape) # 나머지 형태가 고정되어 있을때 -1을 사용하면 자동으로 남은 차원을 맞춰줌"
   ]
  },
  {
   "cell_type": "code",
   "execution_count": null,
   "id": "c5928edd",
   "metadata": {},
   "outputs": [],
   "source": []
  }
 ],
 "metadata": {
  "kernelspec": {
   "display_name": "pytorch",
   "language": "python",
   "name": "pytorch"
  },
  "language_info": {
   "codemirror_mode": {
    "name": "ipython",
    "version": 3
   },
   "file_extension": ".py",
   "mimetype": "text/x-python",
   "name": "python",
   "nbconvert_exporter": "python",
   "pygments_lexer": "ipython3",
   "version": "3.8.8"
  }
 },
 "nbformat": 4,
 "nbformat_minor": 5
}
