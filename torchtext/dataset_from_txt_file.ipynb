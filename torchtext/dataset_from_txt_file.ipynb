{
 "cells": [
  {
   "cell_type": "code",
   "execution_count": 5,
   "metadata": {},
   "outputs": [],
   "source": [
    "import spacy\n",
    "import pandas as pd\n",
    "from torchtext.legacy.data import Field, BucketIterator, TabularDataset\n",
    "from sklearn.model_selection import train_test_split"
   ]
  },
  {
   "cell_type": "code",
   "execution_count": 6,
   "metadata": {},
   "outputs": [],
   "source": [
    "english_txt = open('wmt_data/wmt_train_en.txt', encoding='utf8').read().split('\\n')\n",
    "german_txt = open('wmt_data/wmt_train_ger.txt', encoding='utf8').read().split('\\n')"
   ]
  },
  {
   "cell_type": "code",
   "execution_count": 9,
   "metadata": {},
   "outputs": [],
   "source": [
    "raw_data = {'English': [line for line in english_txt[1:1000]],\n",
    "            'German': [line for line in german_txt[1:1000]]}\n",
    "\n",
    "df = pd.DataFrame(raw_data, columns=['English', 'German'])\n",
    "\n",
    "train, test = train_test_split(df, test_size=0.2)"
   ]
  },
  {
   "cell_type": "code",
   "execution_count": 14,
   "metadata": {},
   "outputs": [],
   "source": [
    "train.to_json('wmt_data/train.json', orient='records', lines=True)\n",
    "test.to_json('wmt_data/test.json', orient='records', lines=True)\n",
    "train.to_csv('wmt_data/train.csv', index=False)\n",
    "test.to_csv('wmt_data/test.csv', index=False)"
   ]
  },
  {
   "cell_type": "code",
   "execution_count": 19,
   "metadata": {},
   "outputs": [],
   "source": [
    "# !python -m spacy download de\n",
    "# !python -m spacy download en\n",
    "\n",
    "spacy_eng = spacy.load(\"en_core_web_sm\")\n",
    "spacy_ger = spacy.load(\"de_core_news_sm\")\n",
    "\n",
    "def tokenize_eng(text):\n",
    "    return [tok.text for tok in spacy_eng.tokenizer(text)]\n",
    "\n",
    "def tokenize_ger(text):\n",
    "    return [tok.text for tok in spacy_ger.tokenizer(text)]"
   ]
  },
  {
   "cell_type": "code",
   "execution_count": 16,
   "metadata": {},
   "outputs": [],
   "source": [
    "english = Field(sequential=True, use_vocab=True, tokenize=tokenize_eng, lower=True)\n",
    "german = Field(sequential=True, use_vocab=True, tokenize=tokenize_ger, lower=True)"
   ]
  },
  {
   "cell_type": "code",
   "execution_count": 21,
   "metadata": {},
   "outputs": [],
   "source": [
    "fields = {'English': ('eng', english), 'German': ('ger', german)}\n",
    "\n",
    "train_data, test_data = TabularDataset.splits(path='wmt_data', train='train.json', test='test.json', format='json', fields=fields)"
   ]
  },
  {
   "cell_type": "code",
   "execution_count": 22,
   "metadata": {},
   "outputs": [],
   "source": [
    "english.build_vocab(train_data, max_size=10000, min_freq=2)\n",
    "german.build_vocab(train_data, max_size=10000, min_freq=2)"
   ]
  },
  {
   "cell_type": "code",
   "execution_count": 23,
   "metadata": {},
   "outputs": [],
   "source": [
    "train_iterator, test_iterator = BucketIterator.splits((train_data, test_data), batch_size=32, device='cuda')"
   ]
  },
  {
   "cell_type": "code",
   "execution_count": 24,
   "metadata": {},
   "outputs": [
    {
     "name": "stdout",
     "output_type": "stream",
     "text": [
      "\n",
      "[torchtext.legacy.data.batch.Batch of size 32]\n",
      "\t[.eng]:[torch.cuda.LongTensor of size 77x32 (GPU 0)]\n",
      "\t[.ger]:[torch.cuda.LongTensor of size 70x32 (GPU 0)]\n",
      "\n",
      "[torchtext.legacy.data.batch.Batch of size 32]\n",
      "\t[.eng]:[torch.cuda.LongTensor of size 73x32 (GPU 0)]\n",
      "\t[.ger]:[torch.cuda.LongTensor of size 67x32 (GPU 0)]\n",
      "\n",
      "[torchtext.legacy.data.batch.Batch of size 32]\n",
      "\t[.eng]:[torch.cuda.LongTensor of size 64x32 (GPU 0)]\n",
      "\t[.ger]:[torch.cuda.LongTensor of size 69x32 (GPU 0)]\n",
      "\n",
      "[torchtext.legacy.data.batch.Batch of size 32]\n",
      "\t[.eng]:[torch.cuda.LongTensor of size 65x32 (GPU 0)]\n",
      "\t[.ger]:[torch.cuda.LongTensor of size 64x32 (GPU 0)]\n",
      "\n",
      "[torchtext.legacy.data.batch.Batch of size 32]\n",
      "\t[.eng]:[torch.cuda.LongTensor of size 55x32 (GPU 0)]\n",
      "\t[.ger]:[torch.cuda.LongTensor of size 58x32 (GPU 0)]\n",
      "\n",
      "[torchtext.legacy.data.batch.Batch of size 32]\n",
      "\t[.eng]:[torch.cuda.LongTensor of size 87x32 (GPU 0)]\n",
      "\t[.ger]:[torch.cuda.LongTensor of size 75x32 (GPU 0)]\n",
      "\n",
      "[torchtext.legacy.data.batch.Batch of size 32]\n",
      "\t[.eng]:[torch.cuda.LongTensor of size 76x32 (GPU 0)]\n",
      "\t[.ger]:[torch.cuda.LongTensor of size 74x32 (GPU 0)]\n",
      "\n",
      "[torchtext.legacy.data.batch.Batch of size 32]\n",
      "\t[.eng]:[torch.cuda.LongTensor of size 100x32 (GPU 0)]\n",
      "\t[.ger]:[torch.cuda.LongTensor of size 96x32 (GPU 0)]\n",
      "\n",
      "[torchtext.legacy.data.batch.Batch of size 32]\n",
      "\t[.eng]:[torch.cuda.LongTensor of size 86x32 (GPU 0)]\n",
      "\t[.ger]:[torch.cuda.LongTensor of size 77x32 (GPU 0)]\n",
      "\n",
      "[torchtext.legacy.data.batch.Batch of size 32]\n",
      "\t[.eng]:[torch.cuda.LongTensor of size 46x32 (GPU 0)]\n",
      "\t[.ger]:[torch.cuda.LongTensor of size 56x32 (GPU 0)]\n",
      "\n",
      "[torchtext.legacy.data.batch.Batch of size 32]\n",
      "\t[.eng]:[torch.cuda.LongTensor of size 72x32 (GPU 0)]\n",
      "\t[.ger]:[torch.cuda.LongTensor of size 70x32 (GPU 0)]\n",
      "\n",
      "[torchtext.legacy.data.batch.Batch of size 32]\n",
      "\t[.eng]:[torch.cuda.LongTensor of size 92x32 (GPU 0)]\n",
      "\t[.ger]:[torch.cuda.LongTensor of size 98x32 (GPU 0)]\n",
      "\n",
      "[torchtext.legacy.data.batch.Batch of size 32]\n",
      "\t[.eng]:[torch.cuda.LongTensor of size 87x32 (GPU 0)]\n",
      "\t[.ger]:[torch.cuda.LongTensor of size 69x32 (GPU 0)]\n",
      "\n",
      "[torchtext.legacy.data.batch.Batch of size 32]\n",
      "\t[.eng]:[torch.cuda.LongTensor of size 87x32 (GPU 0)]\n",
      "\t[.ger]:[torch.cuda.LongTensor of size 56x32 (GPU 0)]\n",
      "\n",
      "[torchtext.legacy.data.batch.Batch of size 32]\n",
      "\t[.eng]:[torch.cuda.LongTensor of size 67x32 (GPU 0)]\n",
      "\t[.ger]:[torch.cuda.LongTensor of size 62x32 (GPU 0)]\n",
      "\n",
      "[torchtext.legacy.data.batch.Batch of size 32]\n",
      "\t[.eng]:[torch.cuda.LongTensor of size 57x32 (GPU 0)]\n",
      "\t[.ger]:[torch.cuda.LongTensor of size 50x32 (GPU 0)]\n",
      "\n",
      "[torchtext.legacy.data.batch.Batch of size 32]\n",
      "\t[.eng]:[torch.cuda.LongTensor of size 72x32 (GPU 0)]\n",
      "\t[.ger]:[torch.cuda.LongTensor of size 56x32 (GPU 0)]\n",
      "\n",
      "[torchtext.legacy.data.batch.Batch of size 32]\n",
      "\t[.eng]:[torch.cuda.LongTensor of size 70x32 (GPU 0)]\n",
      "\t[.ger]:[torch.cuda.LongTensor of size 71x32 (GPU 0)]\n",
      "\n",
      "[torchtext.legacy.data.batch.Batch of size 32]\n",
      "\t[.eng]:[torch.cuda.LongTensor of size 83x32 (GPU 0)]\n",
      "\t[.ger]:[torch.cuda.LongTensor of size 81x32 (GPU 0)]\n",
      "\n",
      "[torchtext.legacy.data.batch.Batch of size 32]\n",
      "\t[.eng]:[torch.cuda.LongTensor of size 47x32 (GPU 0)]\n",
      "\t[.ger]:[torch.cuda.LongTensor of size 56x32 (GPU 0)]\n",
      "\n",
      "[torchtext.legacy.data.batch.Batch of size 31]\n",
      "\t[.eng]:[torch.cuda.LongTensor of size 57x31 (GPU 0)]\n",
      "\t[.ger]:[torch.cuda.LongTensor of size 56x31 (GPU 0)]\n",
      "\n",
      "[torchtext.legacy.data.batch.Batch of size 32]\n",
      "\t[.eng]:[torch.cuda.LongTensor of size 69x32 (GPU 0)]\n",
      "\t[.ger]:[torch.cuda.LongTensor of size 67x32 (GPU 0)]\n",
      "\n",
      "[torchtext.legacy.data.batch.Batch of size 32]\n",
      "\t[.eng]:[torch.cuda.LongTensor of size 98x32 (GPU 0)]\n",
      "\t[.ger]:[torch.cuda.LongTensor of size 100x32 (GPU 0)]\n",
      "\n",
      "[torchtext.legacy.data.batch.Batch of size 32]\n",
      "\t[.eng]:[torch.cuda.LongTensor of size 91x32 (GPU 0)]\n",
      "\t[.ger]:[torch.cuda.LongTensor of size 73x32 (GPU 0)]\n",
      "\n",
      "[torchtext.legacy.data.batch.Batch of size 32]\n",
      "\t[.eng]:[torch.cuda.LongTensor of size 44x32 (GPU 0)]\n",
      "\t[.ger]:[torch.cuda.LongTensor of size 56x32 (GPU 0)]\n"
     ]
    }
   ],
   "source": [
    "for batch in train_iterator:\n",
    "    print(batch)"
   ]
  }
 ],
 "metadata": {
  "kernelspec": {
   "display_name": "pytorch-tutorials",
   "language": "python",
   "name": "venv"
  },
  "language_info": {
   "codemirror_mode": {
    "name": "ipython",
    "version": 3
   },
   "file_extension": ".py",
   "mimetype": "text/x-python",
   "name": "python",
   "nbconvert_exporter": "python",
   "pygments_lexer": "ipython3",
   "version": "3.8.10"
  },
  "orig_nbformat": 4
 },
 "nbformat": 4,
 "nbformat_minor": 2
}
