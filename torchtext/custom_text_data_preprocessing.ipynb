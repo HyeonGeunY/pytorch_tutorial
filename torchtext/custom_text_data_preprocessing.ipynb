{
 "cells": [
  {
   "cell_type": "code",
   "execution_count": 35,
   "metadata": {},
   "outputs": [],
   "source": [
    "from torchtext.legacy.data import Field, TabularDataset, BucketIterator\n",
    "import spacy\n",
    "import torch\n",
    "import torch.nn as nn\n",
    "import torch.optim as optim\n",
    "\n",
    "# python -m spacy download en\n",
    "spacy_en = spacy.load(\"en_core_web_sm\")\n",
    "device = torch.device(\"cuda\" if torch.cuda.is_available() else \"cpu\")\n",
    "# tokenize = lambda x: x.split()\n",
    "def tokenize(text):\n",
    "    return [tok.text for tok in spacy_en.tokenizer(text)] # 토큰화된 list를 반환하도록 설정\n",
    "\n",
    "quote = Field(sequential=True, use_vocab=True, tokenize=tokenize, lower=True)\n",
    "score = Field(sequential=False, use_vocab=False, lower=False)\n",
    "fields = {'quote': ('q', quote), 'score': ('s', score)} # batch.q, batch.s"
   ]
  },
  {
   "cell_type": "code",
   "execution_count": 37,
   "metadata": {},
   "outputs": [],
   "source": [
    "train_data, test_data = TabularDataset.splits(path=\"sample_data\",\n",
    "                      train=\"train.json\",\n",
    "                      test=\"test.json\",\n",
    "                      #validation = \"validation.json\"\n",
    "                      format=\"json\",\n",
    "                      fields=fields)\n",
    "\n",
    "train_data, test_data = TabularDataset.splits(path=\"sample_data\",\n",
    "                      train=\"train.csv\",\n",
    "                      test=\"test.csv\",\n",
    "                      format=\"csv\",\n",
    "                      fields=fields)\n"
   ]
  },
  {
   "cell_type": "code",
   "execution_count": 38,
   "metadata": {},
   "outputs": [
    {
     "name": "stdout",
     "output_type": "stream",
     "text": [
      "dict_keys(['q', 's'])\n",
      "dict_values([['you', 'must', 'own', 'everything', 'in', 'your', 'world', '.', 'there', 'is', 'no', 'one', 'else', 'to', 'blame', '.'], '1'])\n"
     ]
    }
   ],
   "source": [
    "print(train_data[0].__dict__.keys())\n",
    "print(train_data[0].__dict__.values())"
   ]
  },
  {
   "cell_type": "code",
   "execution_count": 51,
   "metadata": {},
   "outputs": [],
   "source": [
    "quote.build_vocab(train_data, max_size=100000, min_freq=1, vectors='glove.6B.100d') # vectors: pretrained 된 embedding 1GB\n",
    "train_iterator, test_iterator = BucketIterator.splits((train_data, test_data), batch_size=2, device=device)"
   ]
  },
  {
   "cell_type": "code",
   "execution_count": 30,
   "metadata": {},
   "outputs": [
    {
     "name": "stdout",
     "output_type": "stream",
     "text": [
      "tensor([[33, 26],\n",
      "        [18, 28],\n",
      "        [23,  6],\n",
      "        [13, 25],\n",
      "        [14, 17],\n",
      "        [34,  2],\n",
      "        [32, 24],\n",
      "        [30,  1],\n",
      "        [15,  1],\n",
      "        [19,  1],\n",
      "        [21,  1],\n",
      "        [11,  1],\n",
      "        [31,  1],\n",
      "        [ 7,  1]], device='cuda:0')\n",
      "tensor([1, 0], device='cuda:0')\n",
      "tensor([[ 9],\n",
      "        [20],\n",
      "        [ 4],\n",
      "        [ 3],\n",
      "        [ 5],\n",
      "        [10],\n",
      "        [16],\n",
      "        [ 4],\n",
      "        [ 3],\n",
      "        [29],\n",
      "        [27],\n",
      "        [12],\n",
      "        [ 2],\n",
      "        [ 8],\n",
      "        [22]], device='cuda:0')\n",
      "tensor([1], device='cuda:0')\n"
     ]
    }
   ],
   "source": [
    "for batch in train_iterator:\n",
    "    print(batch.q) # 1은 padding\n",
    "    print(batch.s)"
   ]
  },
  {
   "cell_type": "code",
   "execution_count": 36,
   "metadata": {},
   "outputs": [],
   "source": [
    "class RNN_LSTM(nn.Module):\n",
    "    def __init__(self, input_size, embed_size, hidden_size, num_layers):\n",
    "        super(RNN_LSTM, self).__init__()\n",
    "        self.hidden_size = hidden_size\n",
    "        self.num_layers = num_layers\n",
    "\n",
    "        self.embedding = nn.Embedding(input_size, embed_size)\n",
    "        self.rnn = nn.LSTM(embed_size, hidden_size, num_layers)\n",
    "        self.fc_out = nn.Linear(hidden_size, 1)\n",
    "\n",
    "    def forward(self, x):\n",
    "        # Set initial hidden and cell states\n",
    "        h0 = torch.zeros(self.num_layers, x.size(1), self.hidden_size).to(device)\n",
    "        c0 = torch.zeros(self.num_layers, x.size(1), self.hidden_size).to(device)\n",
    "\n",
    "        embedded = self.embedding(x)\n",
    "        outputs, _ = self.rnn(embedded, (h0, c0))\n",
    "        prediction = self.fc_out(outputs[-1, :, :])\n",
    "\n",
    "        return prediction"
   ]
  },
  {
   "cell_type": "code",
   "execution_count": 43,
   "metadata": {},
   "outputs": [],
   "source": [
    "input_size = len(quote.vocab)\n",
    "hidden_size = 512\n",
    "num_layers = 2\n",
    "embedding_size = 100\n",
    "learning_rate = 0.005\n",
    "num_epochs = 10\n",
    "\n",
    "model = RNN_LSTM(input_size, embedding_size, hidden_size, num_layers).to(device)"
   ]
  },
  {
   "cell_type": "code",
   "execution_count": 50,
   "metadata": {},
   "outputs": [
    {
     "data": {
      "text/plain": [
       "tensor([[ 0.0000,  0.0000,  0.0000,  ...,  0.0000,  0.0000,  0.0000],\n",
       "        [ 0.0000,  0.0000,  0.0000,  ...,  0.0000,  0.0000,  0.0000],\n",
       "        [-0.3398,  0.2094,  0.4635,  ..., -0.2339,  0.4730, -0.0288],\n",
       "        ...,\n",
       "        [ 0.4918,  1.1164,  1.1424,  ..., -0.5088,  0.6256,  0.4392],\n",
       "        [-0.4989,  0.7660,  0.8975,  ..., -0.4118,  0.4054,  0.7850],\n",
       "        [-0.5718,  0.0463,  0.8673,  ..., -0.3566,  0.9293,  0.8995]],\n",
       "       device='cuda:0')"
      ]
     },
     "execution_count": 50,
     "metadata": {},
     "output_type": "execute_result"
    }
   ],
   "source": [
    "pretrained_embeddings = quote.vocab.vectors\n",
    "model.embedding.weight.data.copy_(pretrained_embeddings)"
   ]
  },
  {
   "cell_type": "code",
   "execution_count": 52,
   "metadata": {},
   "outputs": [],
   "source": [
    "criterion = nn.BCEWithLogitsLoss()\n",
    "optimizer = optim.Adam(model.parameters(), lr=learning_rate)"
   ]
  },
  {
   "cell_type": "code",
   "execution_count": null,
   "metadata": {},
   "outputs": [],
   "source": [
    "for epoch in range(num_epochs):\n",
    "    for batch_idx, batch in enumerate(train_iterator):\n",
    "        # Get data to cuda if possible\n",
    "        data = batch.q.to(device=device)\n",
    "        targets = batch.s.to(device=device)\n",
    "\n",
    "        # forward\n",
    "        scores = model(data)\n",
    "        loss = criterion(scores.squeeze(1), targets.type_as(scores))\n",
    "\n",
    "        # backward\n",
    "        optimizer.zero_grad()\n",
    "        loss.backward()\n",
    "\n",
    "        # gradient descent\n",
    "        optimizer.step()"
   ]
  }
 ],
 "metadata": {
  "kernelspec": {
   "display_name": "pytorch-tutorials",
   "language": "python",
   "name": "venv"
  },
  "language_info": {
   "codemirror_mode": {
    "name": "ipython",
    "version": 3
   },
   "file_extension": ".py",
   "mimetype": "text/x-python",
   "name": "python",
   "nbconvert_exporter": "python",
   "pygments_lexer": "ipython3",
   "version": "3.8.10"
  },
  "orig_nbformat": 4
 },
 "nbformat": 4,
 "nbformat_minor": 2
}
